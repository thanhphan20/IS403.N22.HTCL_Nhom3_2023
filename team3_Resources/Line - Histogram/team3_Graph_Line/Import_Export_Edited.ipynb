{
  "nbformat": 4,
  "nbformat_minor": 0,
  "metadata": {
    "colab": {
      "provenance": []
    },
    "kernelspec": {
      "name": "python3",
      "display_name": "Python 3"
    },
    "language_info": {
      "name": "python"
    }
  },
  "cells": [
    {
      "cell_type": "code",
      "execution_count": 2,
      "metadata": {
        "id": "XIz4fuuX727b"
      },
      "outputs": [],
      "source": [
        "import pandas as pd\n",
        "import numpy as np\n",
        "import matplotlib.pyplot as plt"
      ]
    },
    {
      "cell_type": "code",
      "source": [
        "path = \"/content/sample_data/data.csv\"\n",
        "df = pd.read_csv(path)\n",
        "df = df.iloc[1:]"
      ],
      "metadata": {
        "id": "ZszLaaO874lV"
      },
      "execution_count": 3,
      "outputs": []
    },
    {
      "cell_type": "code",
      "source": [
        "df['year'] = df['year'].astype('int')\n",
        "df['export'] = df['export'].astype('float')\n",
        "df['import'] = df['import'].astype('float')"
      ],
      "metadata": {
        "id": "x_PgN9dG3caJ"
      },
      "execution_count": 17,
      "outputs": []
    },
    {
      "cell_type": "code",
      "source": [
        "#Phân tích import export 2000-2003 theo năm\n",
        "filtered_data_2000 = df[(df['year'] >= 2000) & (df['year'] < 2004)]\n",
        "\n",
        "export_import_2000 = filtered_data_2000.groupby('year')[['export','import']].sum().reset_index()\n",
        "\n",
        "df_export_import_2000 = pd.DataFrame(export_import_2000)\n",
        "\n",
        "df_export_import_2000"
      ],
      "metadata": {
        "id": "ZDaTTbo65iIJ"
      },
      "execution_count": null,
      "outputs": []
    },
    {
      "cell_type": "code",
      "source": [
        "# Vẽ biểu đồ cho xuất nhập khẩu\n",
        "plt.figure(figsize=(10, 6))\n",
        "plt.plot(df_export_import_2000['year'], df_export_import_2000['export'], marker='o', label='export')\n",
        "plt.plot(df_export_import_2000['year'], df_export_import_2000['import'], marker='o', label='import')\n",
        "\n",
        "plt.title('Tổng giá trị xuất/nhập khẩu (Triệu USD / Năm)')\n",
        "plt.xlabel('Năm')\n",
        "plt.ylabel('Tổng giá trị xuất/nhập khẩu (Triệu USD)')\n",
        "\n",
        "plt.legend()\n",
        "plt.grid(True)\n",
        "plt.show()"
      ],
      "metadata": {
        "id": "RF0FEeV_s6Ky"
      },
      "execution_count": null,
      "outputs": []
    },
    {
      "cell_type": "code",
      "source": [
        "# Vẽ biểu đồ cho xuất nhập khẩu\n",
        "plt.figure(figsize=(10, 6))\n",
        "plt.plot(df_export_import_2000['year'], df_export_import_2000['export'], marker='o', label='export')\n",
        "plt.title('Tổng giá trị nhập khẩu (Triệu USD / Năm)')\n",
        "plt.xlabel('Năm')\n",
        "plt.ylabel('Tổng giá trị nhập khẩu')\n",
        "plt.legend()\n",
        "plt.grid(True)\n",
        "plt.show()\n",
        "\n",
        "# Vẽ biểu đồ cho nông nghiệp\n",
        "plt.figure(figsize=(10, 6))\n",
        "plt.plot(df_export_import_2000['year'], df_export_import_2000['import'], marker='o', label='export')\n",
        "plt.title('Tổng giá trị xuất khẩu (Triệu USD / Năm)')\n",
        "plt.xlabel('Năm')\n",
        "plt.ylabel('Tổng giá trị xuất khẩu')\n",
        "plt.legend()\n",
        "plt.grid(True)\n",
        "plt.show()"
      ],
      "metadata": {
        "id": "6WehouHdOXCM"
      },
      "execution_count": null,
      "outputs": []
    },
    {
      "cell_type": "code",
      "source": [
        "#Phân tích xuất nhập khẩu 2004-2023 theo tháng\n",
        "filtered_data_2004 = df[(df['year'] >= 2004) & (df['year'] <= 2023)]\n",
        "\n",
        "filtered_data_2004 = filtered_data_2004[['year','month', 'export', 'import']]\n",
        "\n",
        "filtered_data_2004 = filtered_data_2004.groupby(['year', 'month']).head()\n",
        "\n",
        "df_export_import_2004 = pd.DataFrame(filtered_data_2004)\n",
        "\n",
        "df_export_import_2004"
      ],
      "metadata": {
        "id": "lJjFQAGT5f86"
      },
      "execution_count": null,
      "outputs": []
    },
    {
      "cell_type": "code",
      "source": [
        "plt.figure(figsize=(36, 6))  # Kích thước biểu đồ\n",
        "\n",
        "# Vẽ đường cho giá trị xuất khẩu\n",
        "plt.plot(df_export_import_2004.index, df_export_import_2004['export'], marker='o', label='Xuất khẩu', linestyle='-', color='b')\n",
        "\n",
        "# Vẽ đường cho giá trị nhập khẩu\n",
        "plt.plot(df_export_import_2004.index, df_export_import_2004['import'], marker='o', label='Nhập khẩu', linestyle='-', color='r')\n",
        "\n",
        "# Đặt tên cho trục x và y\n",
        "plt.xticks(df_export_import_2004.index, df_export_import_2004['year'].astype('str') + ' ' + df_export_import_2004['month'], rotation=90)\n",
        "plt.xlabel('Thời gian')\n",
        "plt.ylabel('Giá trị xuất nhập khẩu (Triệu USD)')\n",
        "\n",
        "plt.title('Biểu đồ giá trị xuất Nhập khẩu từ 2004 đến 2023')\n",
        "plt.legend()\n",
        "plt.tight_layout()\n",
        "plt.grid()\n",
        "plt.show()"
      ],
      "metadata": {
        "id": "vTk27Nw97ZuO"
      },
      "execution_count": null,
      "outputs": []
    }
  ]
}